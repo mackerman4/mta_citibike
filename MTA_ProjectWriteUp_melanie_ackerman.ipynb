{
 "cells": [
  {
   "cell_type": "markdown",
   "id": "454a8a25",
   "metadata": {},
   "source": [
    "# Exploratory Data Analysis Project Write-Up\n",
    "## Subway and Bike-Share Ridership During COVID-19\n",
    "### By Melanie Ackerman"
   ]
  },
  {
   "cell_type": "markdown",
   "id": "03081cde",
   "metadata": {},
   "source": [
    "### Abstract"
   ]
  },
  {
   "cell_type": "markdown",
   "id": "0fd49390",
   "metadata": {},
   "source": [
    "Subway and bike-share ridership plummeted during the COVID-19 lockdowns in the spring of 2020 enacted to stop the spread of the virus. Since then, and particularly since the wide distribution of vaccines in 2021, New York City has largely reopened and activity has picked up in the city. Citi Bike, the bike-share company in NYC, would like to know how their ridership has changed throughout the pandemic and how it compares to subway ridership. Is it possible that New Yorkers are trading the subway for bikes? This analysis uses a time-series of daily aggregations of subway rides and bike-share rides in NYC to show that, while subway ridership remains well below pre-pandemic levels, bike-share ridership has indeed recovered from its Spring 2020 lows and has even surpassed pre-pandemic levels. \n"
   ]
  },
  {
   "cell_type": "markdown",
   "id": "937bf31e",
   "metadata": {},
   "source": [
    "### Design"
   ]
  },
  {
   "cell_type": "markdown",
   "id": "a4b61d68",
   "metadata": {},
   "source": [
    "This project answers hypothetical client Citi Bike's question of how their ridership changed throughout the pandemic and how it compares to subway ridership. The subway data is provided by MTA and the bike ridership data is provided by Citi Bike. I compute daily subway and bike rides and compare 6-month time periods from January to June for years 2019, 2020, and 2021. I plot these time series along with 7-day moving averages and find percent changes between corresponding dates in 2019 and 2021 to show differences between pre-pandemic and current levels. This information would help Citi Bike to understand their current ridership patterns.  "
   ]
  },
  {
   "cell_type": "markdown",
   "id": "3f26c9f7",
   "metadata": {},
   "source": [
    "### Data"
   ]
  },
  {
   "cell_type": "markdown",
   "id": "a7689041",
   "metadata": {},
   "source": [
    "The MTA turnstile data used for this analysis began as over 16 million rows of data, where each observation is a single turnstile at a given subway station at 4-hour intervals, covering the 6-month period between January and June for years 2019, 2020, and 2021. Variables of note include cumulative entries, date, and subway station identifiers. The Citi Bike data used for this analysis began as nearly 28 million rows of data, where each observation is a single bike ride, covering the same time periods as the MTA data."
   ]
  },
  {
   "cell_type": "markdown",
   "id": "b7aaa672",
   "metadata": {},
   "source": [
    "### Algorithms"
   ]
  },
  {
   "cell_type": "markdown",
   "id": "47912cb5",
   "metadata": {},
   "source": [
    "After cleaning the MTA turnstile data, I converted the variable for cumulative entries per turnstile to a daily count per turnstile and aggregated daily counts from the turnstile level to the day level. This new measure represents daily ridership. After cleaning the Citi Bike data, I created a daily ridership measure by aggregating rides per day. For both data sources, I used daily aggregations to compute a 7-day moving average of ridership during each of the 3 6-month time periods. I then plotted a time-series over 6 months of daily subway and bike-share ridership along with the 7-day moving average for each year. Additionally, I computed percent changes between each day in the 6-month period in 2019 and the same date in 2021. However, the corresponding date in 2021 is not always a comparable day of the week. For example, 3/6/2019 was a Wednesday whereas 3/6/2021 was a Saturday. As weekend ridership is typically below weekday ridership, the difference between these two days overstates the lower overall ridership occurring in 2021 compared to 2019. A similar, though less drastic, phenomenon happened with the Citi Bike data as well."
   ]
  },
  {
   "cell_type": "markdown",
   "id": "104712eb",
   "metadata": {},
   "source": [
    "### Tools"
   ]
  },
  {
   "cell_type": "markdown",
   "id": "22d13240",
   "metadata": {},
   "source": [
    "- SQL for compiling raw data and SQLAlchemy for querying from those databases into Python. (Note: My laptop could not handle querying that amount of data. In my Jupyter Notebook coding file I comment out the code I would have used to query the data, but I had to read in the .csv files.)\n",
    "- NumPy and Pandas for data manipulation\n",
    "- Matplotlib for visualization"
   ]
  },
  {
   "cell_type": "markdown",
   "id": "15869e6d",
   "metadata": {},
   "source": [
    "### Communication"
   ]
  },
  {
   "cell_type": "markdown",
   "id": "a15ca35a",
   "metadata": {},
   "source": [
    "My presentation slides include the 6 aforementioned time-series plots and 2 percent-change charts."
   ]
  },
  {
   "cell_type": "code",
   "execution_count": null,
   "id": "3c20113b",
   "metadata": {},
   "outputs": [],
   "source": []
  }
 ],
 "metadata": {
  "kernelspec": {
   "display_name": "Python 3 (ipykernel)",
   "language": "python",
   "name": "python3"
  },
  "language_info": {
   "codemirror_mode": {
    "name": "ipython",
    "version": 3
   },
   "file_extension": ".py",
   "mimetype": "text/x-python",
   "name": "python",
   "nbconvert_exporter": "python",
   "pygments_lexer": "ipython3",
   "version": "3.9.7"
  }
 },
 "nbformat": 4,
 "nbformat_minor": 5
}
